{
 "cells": [
  {
   "cell_type": "code",
   "execution_count": 2,
   "metadata": {},
   "outputs": [],
   "source": [
    "import numpy as np"
   ]
  },
  {
   "cell_type": "code",
   "execution_count": 13,
   "metadata": {},
   "outputs": [
    {
     "name": "stdout",
     "output_type": "stream",
     "text": [
      "3AB-2A是：\n",
      " [[ -2  13  22]\n",
      " [ -2 -17  20]\n",
      " [  4  29  -2]]\n",
      "A^T*B：\n",
      " [[ 0  5  8]\n",
      " [ 0 -5  6]\n",
      " [ 2  9  0]]\n",
      "A的迹: 3\n",
      "B的迹: 0\n",
      "A的行列式： -4.0\n",
      "B的行列式： -34.99999999999999\n",
      "A可逆\n",
      "A的逆矩阵：\n",
      " [[ 0.   0.5  0.5]\n",
      " [ 0.5 -0.  -0.5]\n",
      " [ 0.5 -0.5 -0. ]]\n",
      "A的伴随矩阵：\n",
      " [[-0. -2. -2.]\n",
      " [-2.  0.  2.]\n",
      " [-2.  2.  0.]]\n",
      "B可逆\n",
      "B的逆矩阵：\n",
      " [[ 0.62857143 -0.37142857 -0.4       ]\n",
      " [-0.02857143 -0.02857143  0.2       ]\n",
      " [ 0.14285714  0.14285714  0.        ]]\n",
      "B的伴随矩阵：\n",
      " [[-22.  13.  14.]\n",
      " [  1.   1.  -7.]\n",
      " [ -5.  -5.  -0.]]\n",
      "AB不等于BA\n"
     ]
    }
   ],
   "source": [
    "A = np.array([[1,1,1],[1,1,-1],[1,-1,1]])\n",
    "B = np.array([[1,2,3],[-1,-2,4],[0,5,1]])\n",
    "\n",
    "print(\"3AB-2A是：\\n\",3*np.dot(A,B)-2*A)\n",
    "print(\"A^T*B：\\n\",np.dot(A.T,B))\n",
    "\n",
    "# 计算 A和B的迹，以及det(A)和det(B)的值\n",
    "print(\"A的迹:\",np.trace(A))\n",
    "print(\"B的迹:\",np.trace(B))\n",
    "print(\"A的行列式：\",np.linalg.det(A))\n",
    "print(\"B的行列式：\",np.linalg.det(B))\n",
    "\n",
    "# A和B是否可逆？如果可逆，求出其逆矩阵以及伴随矩阵\n",
    "if np.linalg.det(A)!=0:\n",
    "    print(\"A可逆\")\n",
    "    print(\"A的逆矩阵：\\n\",np.linalg.inv(A))\n",
    "    print(\"A的伴随矩阵：\\n\",np.linalg.inv(A)*np.linalg.det(A))\n",
    "if np.linalg.det(B)!=0:\n",
    "    print(\"B可逆\")\n",
    "    print(\"B的逆矩阵：\\n\",np.linalg.inv(B))\n",
    "    print(\"B的伴随矩阵：\\n\",np.linalg.inv(B)*np.linalg.det(B))\n",
    "\n",
    "# 验证AB和BA是否相等\n",
    "AB = A.dot(B)\n",
    "BA = B.dot(A)\n",
    "n=1\n",
    "for i in range(AB.shape[0]):\n",
    "    for j in range(AB.shape[1]):\n",
    "        if (AB==BA)[i][j] == False:\n",
    "            n=0\n",
    "            break\n",
    "if n==1:\n",
    "    print(\"AB等于BA\")\n",
    "else:\n",
    "    print(\"AB不等于BA\")"
   ]
  },
  {
   "cell_type": "code",
   "execution_count": 20,
   "metadata": {},
   "outputs": [
    {
     "name": "stdout",
     "output_type": "stream",
     "text": [
      "X:\n",
      " [[  2. -23.]\n",
      " [  0.   8.]]\n",
      "X的行列式:\n",
      " 15.999999999999998\n",
      "X的伴随矩阵:\n",
      " [[ 8. 23.]\n",
      " [ 0.  2.]]\n"
     ]
    }
   ],
   "source": [
    "A=np.array([[2,5],[1,3]])\n",
    "B=np.array([[4,-6],[2,1]])\n",
    "X=np.linalg.inv(A).dot(B)\n",
    "print(\"X:\\n\",X)\n",
    "print(\"X的行列式:\\n\",np.linalg.det(X))\n",
    "print(\"X的伴随矩阵:\\n\",np.linalg.inv(X)*np.linalg.det(X))"
   ]
  },
  {
   "cell_type": "code",
   "execution_count": 27,
   "metadata": {},
   "outputs": [
    {
     "name": "stdout",
     "output_type": "stream",
     "text": [
      "a的长度：\n",
      " 5.477225575051661 \n",
      "b的长度：\n",
      " 2.449489742783178\n",
      "ab的内积： [[-1]] a,b不正交\n",
      "a,b之间的夹角的角度大小是： [[94.27453942]]\n"
     ]
    }
   ],
   "source": [
    "a=np.mat([1,3,2,4])\n",
    "b=np.mat([-2,1,-1,0])\n",
    "lenA=np.linalg.norm(a)\n",
    "lenB=np.linalg.norm(b)\n",
    "print(\"a的长度：\\n\",lenA,\"\\nb的长度：\\n\",lenB)\n",
    "# 计算向量a和b的内积，并判断a和b是否正交。\n",
    "A_TB=a*b.T\n",
    "if(A_TB==0):\n",
    "    print(\"ab的内积：0,并且a,b正交\")\n",
    "else:\n",
    "    print(\"ab的内积：\",A_TB,\"a,b不正交\")  \n",
    "# 计算向量a和b之间的夹角（角度值）\n",
    "cos_theta=a.dot(b.T)/(lenA*lenB)\n",
    "angle=(np.arccos(cos_theta))*360/2/np.pi\n",
    "print(\"a,b之间的夹角的角度大小是：\",angle)\n"
   ]
  },
  {
   "cell_type": "code",
   "execution_count": 8,
   "metadata": {},
   "outputs": [
    {
     "name": "stdout",
     "output_type": "stream",
     "text": [
      "解法一：\n",
      " [[0.]\n",
      " [2.]\n",
      " [3.]]\n",
      "解法二：\n",
      " [[-0.]\n",
      " [ 2.]\n",
      " [ 3.]]\n"
     ]
    }
   ],
   "source": [
    "A=np.array([[1,2,1],[2,-1,3],[3,1,2]])\n",
    "b=np.array([[7],[7],[8]])\n",
    "X1=np.linalg.inv(A).dot(b)\n",
    "print(\"解法一：\\n\",X1)\n",
    "X2=np.linalg.solve(A,b)\n",
    "print(\"解法二：\\n\",np.round(X2))"
   ]
  },
  {
   "cell_type": "code",
   "execution_count": 56,
   "metadata": {},
   "outputs": [
    {
     "name": "stdout",
     "output_type": "stream",
     "text": [
      "特征值： [6.66133815e-16 1.00000000e+00 3.00000000e+00]\n",
      "所有特征向量组成的矩阵：\n",
      " [[-5.77350269e-01 -5.18104078e-16  8.16496581e-01]\n",
      " [ 5.77350269e-01  7.07106781e-01  4.08248290e-01]\n",
      " [-5.77350269e-01 -7.07106781e-01  4.08248290e-01]]\n",
      "其中两个特征向量的内积 0.8164965809277265\n",
      "其中两个特征向量的内积 -4.440892098500626e-16\n",
      "其中两个特征向量的内积 -0.4714045207910314\n"
     ]
    }
   ],
   "source": [
    "A=np.array([[0,3,3],[1,1,0],[-1,2,3]])\n",
    "eig_vals,eig_vecs = np.linalg.eig(A) \n",
    "print(\"特征值：\",eig_vals)\n",
    "print(\"所有特征向量组成的矩阵：\\n\",eig_vecs)\n",
    "for i in range(3):\n",
    "    a=eig_vecs[:,i].dot(eig_vecs[:,(i+1)%3])\n",
    "    print(\"其中两个特征向量的内积\",a)"
   ]
  },
  {
   "cell_type": "code",
   "execution_count": 6,
   "metadata": {},
   "outputs": [
    {
     "name": "stdout",
     "output_type": "stream",
     "text": [
      "A的所有奇异值\n",
      " [9.72757334e+00 5.71597993e+00 8.37789008e-01 1.51879696e-15\n",
      " 1.87997701e-16]\n",
      "重构后的A为：\n",
      " [[ 1.  1.  1.  0. -0.]\n",
      " [ 2.  2.  2.  0. -0.]\n",
      " [ 1.  1.  1.  0.  0.]\n",
      " [ 5.  5.  5.  0.  0.]\n",
      " [ 1.  1.  0.  2.  3.]\n",
      " [-0. -0.  0.  3.  3.]\n",
      " [-0. -0.  0.  1.  1.]]\n"
     ]
    }
   ],
   "source": [
    "A=np.array([[1,1,1,0,0],\n",
    "            [2,2,2,0,0],\n",
    "            [1,1,1,0,0],\n",
    "            [5,5,5,0,0],\n",
    "            [1,1,0,2,3],\n",
    "            [0,0,0,3,3],\n",
    "            [0,0,0,1,1]])\n",
    "U,S,VT = np.linalg.svd(A)\n",
    "print(\"A的所有奇异值\\n\",S)\n",
    "sval_nums=3\n",
    "AA=(U[:,0:sval_nums]).dot(np.diag(S[0:sval_nums])).dot(VT[0:sval_nums,:])\n",
    "print(\"重构后的A为：\\n\",np.round(AA))"
   ]
  },
  {
   "cell_type": "code",
   "execution_count": null,
   "metadata": {},
   "outputs": [],
   "source": []
  }
 ],
 "metadata": {
  "kernelspec": {
   "display_name": "Python 3",
   "language": "python",
   "name": "python3"
  },
  "language_info": {
   "codemirror_mode": {
    "name": "ipython",
    "version": 3
   },
   "file_extension": ".py",
   "mimetype": "text/x-python",
   "name": "python",
   "nbconvert_exporter": "python",
   "pygments_lexer": "ipython3",
   "version": "3.6.7"
  }
 },
 "nbformat": 4,
 "nbformat_minor": 2
}
