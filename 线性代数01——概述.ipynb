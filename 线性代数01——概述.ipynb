{
 "cells": [
  {
   "cell_type": "code",
   "execution_count": 3,
   "metadata": {},
   "outputs": [],
   "source": [
    "import numpy as np  \n",
    "import matplotlib.pyplot as plt "
   ]
  },
  {
   "cell_type": "markdown",
   "metadata": {},
   "source": [
    "# 1.矩阵"
   ]
  },
  {
   "cell_type": "code",
   "execution_count": 9,
   "metadata": {},
   "outputs": [
    {
     "name": "stdout",
     "output_type": "stream",
     "text": [
      "[[1 2 3]\n",
      " [4 5 6]] <class 'numpy.matrix'> (2, 3)\n",
      "\n",
      "A的转置矩阵：\n",
      " [[1 4]\n",
      " [2 5]\n",
      " [3 6]]\n",
      "形状：\n",
      " (3, 2)\n"
     ]
    }
   ],
   "source": [
    "A = np.mat([[1,2,3],[4,5,6]]) \n",
    "print(A, type(A), A.shape)  \n",
    "At = A.T  #矩阵转置\n",
    "print(\"\\nA的转置矩阵：\\n\",At)  \n",
    "print(\"形状：\\n\",At.shape)  "
   ]
  },
  {
   "cell_type": "markdown",
   "metadata": {},
   "source": [
    "# 2.二维数组"
   ]
  },
  {
   "cell_type": "code",
   "execution_count": 17,
   "metadata": {},
   "outputs": [
    {
     "name": "stdout",
     "output_type": "stream",
     "text": [
      "基本形状:\n",
      "[[1 2 3 4]\n",
      " [5 6 7 8]] <class 'numpy.ndarray'> (2, 4)\n",
      "基本运算\n",
      "加：\n",
      " [[ 3  4  5  6]\n",
      " [ 7  8  9 10]]\n",
      "乘：\n",
      " [[ 2  4  6  8]\n",
      " [10 12 14 16]]\n",
      "除：\n",
      " [[0.5 1.  1.5 2. ]\n",
      " [2.5 3.  3.5 4. ]]\n",
      "减法：\n",
      " [[-1  0  1  2]\n",
      " [ 3  4  5  6]]\n",
      "转置：\n",
      " [[1 5]\n",
      " [2 6]\n",
      " [3 7]\n",
      " [4 8]]\n"
     ]
    }
   ],
   "source": [
    "B = np.array([[1,2,3,4],[5,6,7,8]]) \n",
    "print(\"基本形状:\")\n",
    "print(B,type(B), B.shape)   \n",
    "print(\"基本运算\")\n",
    "print(\"加：\\n\",B+2)  \n",
    "print(\"乘：\\n\",B*2)  \n",
    "print(\"除：\\n\",B/2)  \n",
    "print(\"减法：\\n\",B-2)   \n",
    "print(\"转置：\\n\",B.T) #转置 "
   ]
  },
  {
   "cell_type": "markdown",
   "metadata": {},
   "source": [
    "# 3.一维数组\n",
    "就是向量"
   ]
  },
  {
   "cell_type": "code",
   "execution_count": 20,
   "metadata": {},
   "outputs": [
    {
     "name": "stdout",
     "output_type": "stream",
     "text": [
      "[1 0 3]      [1 2 3] \n",
      "\n",
      "[1 0 9]\n",
      "内积：\n",
      " 10\n",
      "内积：\n",
      " 10\n",
      "对角阵:\n",
      " [[1 0 0]\n",
      " [0 2 0]\n",
      " [0 0 3]]\n",
      "对角阵:\n",
      " [[1. 0. 0.]\n",
      " [0. 1. 0.]\n",
      " [0. 0. 1.]]\n"
     ]
    }
   ],
   "source": [
    "x = np.array([1,0,3])  \n",
    "y = np.array([1,2,3])  \n",
    "print(x,\"    \",y,\"\\n\")    \n",
    "print(x*y) # 点对点地乘   \n",
    "print(\"内积：\\n\",x.dot(y)) \n",
    "print(\"内积：\\n\",y.dot(x)) \n",
    "diagY = np.diag(y)  \n",
    "print(\"对角阵:\\n\",diagY) # 常见特殊矩阵：对角阵 \n",
    "I3 = np.eye(3)  \n",
    "print(\"对角阵:\\n\",I3)  # 常见特殊矩阵：单位矩阵"
   ]
  },
  {
   "cell_type": "markdown",
   "metadata": {},
   "source": [
    "# 4.矩阵运算"
   ]
  },
  {
   "cell_type": "code",
   "execution_count": 25,
   "metadata": {},
   "outputs": [
    {
     "name": "stdout",
     "output_type": "stream",
     "text": [
      "A: [[1 2 3 4]\n",
      " [5 6 7 8]]\n",
      "复制操作的拷贝  1806030517552 1806030517552\n",
      "copy方法的拷贝  1806030517552 1805955631344\n",
      "C1:\n",
      " [[ 1  4  9 16]\n",
      " [25 36 49 64]]\n",
      "C2:\n",
      " [[ 30  70]\n",
      " [ 70 174]]\n",
      "C3:\n",
      " [[ 30  70]\n",
      " [ 70 174]]\n",
      "Trace of C2 is: 204\n",
      "Rank of C2 is: 2\n"
     ]
    }
   ],
   "source": [
    "A = np.array([[1,2,3,4],[5,6,7,8]]) \n",
    "print(\"A:\",A)    \n",
    "B = A  # 浅拷贝\n",
    "print(\"复制操作的拷贝 \",id(A),id(B))# id同    \n",
    "B = A.copy() # 深拷贝 deep copy, not just ref.  \n",
    "print(\"copy方法的拷贝 \",id(A),id(B))# id不同\n",
    "C1 = A*B # 点乘,点对点的乘  \n",
    "print(\"C1:\\n\",C1)  \n",
    "C2 = A.dot(B.T) # 矩阵乘法  \n",
    "print(\"C2:\\n\",C2)  \n",
    "C3 = np.dot(A,B.T) #矩阵乘法，跟C2一样\n",
    "print(\"C3:\\n\",C3)   \n",
    "print('Trace of C2 is:', np.trace(C2))  # 矩阵的迹，（主对角线元素之和）   \n",
    "print('Rank of C2 is:',np.linalg.matrix_rank(C2))  # rank, np.rank() 已过时…… \n",
    "# 这里会涉及到rank的概念，在线性代数中rank表示秩,请自行查阅相关概念。"
   ]
  },
  {
   "cell_type": "markdown",
   "metadata": {},
   "source": [
    "# 5.行列式、逆矩阵、伴随矩阵"
   ]
  },
  {
   "cell_type": "code",
   "execution_count": 71,
   "metadata": {},
   "outputs": [
    {
     "name": "stdout",
     "output_type": "stream",
     "text": [
      "矩阵:\n",
      " [[ 1  2 -1]\n",
      " [ 3  4 -2]\n",
      " [ 5 -4  1]]\n",
      "逆矩阵:\n",
      " [[ -2.   1.  -0.]\n",
      " [ -6.   3.  -1.]\n",
      " [-16.   7.  -1.]]\n",
      "矩阵的行列式:\n",
      " 2.0\n",
      "伴随矩阵:\n",
      " [[ -4.   2.  -0.]\n",
      " [-13.   6.  -1.]\n",
      " [-32.  14.  -2.]]\n",
      "A的逆与A的乘积是I: \n",
      " [[ 1.  0. -0.]\n",
      " [-0.  1. -0.]\n",
      " [-0.  0.  1.]]\n"
     ]
    }
   ],
   "source": [
    "A = np.array([[1,2,-1],[3,4,-2],[5,-4,1]])\n",
    "print('矩阵:\\n',A)\n",
    "invA = np.linalg.inv(A)# 逆矩阵\n",
    "print('逆矩阵:\\n',np.around(invA))\n",
    "\n",
    "detA = np.linalg.det(A)# 矩阵的行列式\n",
    "print('矩阵的行列式:\\n',detA)\n",
    "\n",
    "bansui = detA*invA# 伴随矩阵\n",
    "print('伴随矩阵:\\n',np.around(bansui))\n",
    "\n",
    "print('A的逆与A的乘积是I: \\n',np.around(np.dot(np.linalg.inv(A),A)))#A的逆与A的乘积是I"
   ]
  },
  {
   "attachments": {
    "image.png": {
     "image/png": "[encoded data removed]"
    }
   },
   "cell_type": "markdown",
   "metadata": {},
   "source": [
    "# 6.关于范数\n",
    "**x_norm=np.linalg.norm(x, ord=None, axis=None, keepdims=False)**\n",
    "- ①x: 表示矩阵（也可以是一维）\n",
    "\n",
    "- ②ord：范数类型\n",
    "\n",
    "- 向量的范数：\n",
    "![image.png](attachment:image.png)\n",
    "- ③axis：处理类型\n",
    "\n",
    " - axis=1表示按行向量处理，求多个行向量的范数\n",
    "\n",
    " - axis=0表示按列向量处理，求多个列向量的范数\n",
    "\n",
    " - axis=None表示矩阵范数。\n",
    "\n",
    "- ④keepding：是否保持矩阵的二维特性\n",
    "\n",
    " - True表示保持矩阵的二维特性，False相反"
   ]
  },
  {
   "cell_type": "code",
   "execution_count": 46,
   "metadata": {},
   "outputs": [
    {
     "name": "stdout",
     "output_type": "stream",
     "text": [
      "A:\n",
      " [[1 2 3 4]\n",
      " [5 6 7 8]]\n",
      "无穷范数:\n",
      " 26.0\n",
      "一范数:\n",
      " 12.0\n",
      "二范数:\n",
      " 14.2828568570857\n",
      "二范数计算方法:\n",
      " 14.2828568570857\n",
      "x:\n",
      " [0.06224954 0.41920993 0.35124982]\n",
      "向量的长度\n",
      " 0.5504438306718326\n",
      "向量长度计算方法:\n",
      " 0.5504438306718326\n"
     ]
    }
   ],
   "source": [
    "A = np.array([[1,2,3,4],[5,6,7,8]]) \n",
    "print(\"A:\\n\",A)  \n",
    "print(\"无穷范数:\\n\",np.linalg.norm(A,np.inf)) \n",
    "print(\"一范数:\\n\",np.linalg.norm(A,1)) \n",
    "print(\"二范数:\\n\",np.linalg.norm(A))  # Default: Frobenius norm  \n",
    "print(\"二范数计算方法:\\n\",np.sqrt((A**2).sum())) # calc Fro. norm of a matrix by def  \n",
    "# np.random.seed(87)  \n",
    "x = np.random.rand(3)  \n",
    "print(\"x:\\n\",x)\n",
    "print(\"向量的长度\\n\",np.linalg.norm(x))  # 向量的范数  \n",
    "print(\"向量长度计算方法:\\n\",np.sqrt(x.dot(x)))  # 自己 dot 自己，然后开平方  \n"
   ]
  },
  {
   "cell_type": "markdown",
   "metadata": {},
   "source": [
    "# 7.线性方程组"
   ]
  },
  {
   "cell_type": "code",
   "execution_count": 54,
   "metadata": {},
   "outputs": [
    {
     "name": "stdout",
     "output_type": "stream",
     "text": [
      "A:\n",
      " [[ 1  2  1]\n",
      " [ 2 -1  3]\n",
      " [ 3  1  2]]\n",
      "<class 'numpy.ndarray'> (3, 1)\n",
      "<class 'numpy.ndarray'> (3, 1)\n",
      "b:\n",
      " [[ 7]\n",
      " [ 8]\n",
      " [18]]\n",
      "线性方程组的解x: [[ 6.7]\n",
      " [ 0.9]\n",
      " [-1.5]]\n",
      "另一种求解方法x2: [[ 6.7]\n",
      " [ 0.9]\n",
      " [-1.5]]\n",
      "A*X:\n",
      " [[ 7.]\n",
      " [ 8.]\n",
      " [18.]]\n",
      "A*X2:\n",
      " [[ 7.]\n",
      " [ 8.]\n",
      " [18.]]\n"
     ]
    }
   ],
   "source": [
    "A1 = [[1,2,1],[2,-1,3],[3,1,2]]  \n",
    "A = np.array(A1)\n",
    "print(\"A:\\n\",A)   \n",
    "b = np.array([7,8,18])  # b是一行\n",
    "b = b.reshape(-1,1)   # reshpae可以把np.array([7,8,18])转成一列，但transpose没有用\n",
    "print(type(b),b.shape)  \n",
    "b = np.array([[7],[8],[18]]) # 列也可以  \n",
    "print(type(b),b.shape)  \n",
    "print(\"b:\\n\",b)    \n",
    "x = np.linalg.inv(A).dot(b)  \n",
    "print(\"线性方程组的解x:\",x)  \n",
    "# 另一种方法，直接调用solve  \n",
    "x2 = np.linalg.solve(A,b)  \n",
    "print(\"另一种求解方法x2:\",x2)    \n",
    "# 检查两个相乘是否为结果b  \n",
    "print(\"A*X:\\n\",A.dot(x))  \n",
    "print(\"A*X2:\\n\",A.dot(x2))"
   ]
  },
  {
   "cell_type": "markdown",
   "metadata": {},
   "source": [
    "# 8.矩阵的特征值"
   ]
  },
  {
   "cell_type": "code",
   "execution_count": 63,
   "metadata": {},
   "outputs": [
    {
     "name": "stdout",
     "output_type": "stream",
     "text": [
      "A:\n",
      " [[1 2 3]\n",
      " [4 5 6]\n",
      " [7 8 9]]\n",
      "特征值： [16. -1. -0.]\n",
      "特征向量： [-0. -1. -1.] [-1. -0.  1.] [ 0. -1.  0.]\n",
      "[ 5.32907052e-15 -1.77635684e-15 -1.77635684e-15]\n",
      "[-3.33066907e-16 -9.57567359e-16 -2.77555756e-15]\n",
      "[-3.55954217e-16 -1.95262683e-15  5.32224203e-16]\n",
      "明显上述结果均为e的负15或16次方，即均为0\n",
      "也就是说： 举矩阵*对应特征向量=对应特征值\n"
     ]
    }
   ],
   "source": [
    "A = np.array([[1,2,3],[4,5,6],[7,8,9]]) \n",
    "print(\"A:\\n\",A) \n",
    "eig_vals,eig_vecs = np.linalg.eig(A)  # 特征值分解\n",
    "print('特征值：',np.round(eig_vals))\n",
    "print('特征向量：',np.round(eig_vecs[:,0]),np.round(eig_vecs[:,1]),np.round(eig_vecs[:,2]))  \n",
    "\n",
    "a0 = A.dot(eig_vecs[:,0]) # 矩阵乘以向量  \n",
    "print(a0 - eig_vals[0]*eig_vecs[:,0])  #输出结果应该是零向量\n",
    "a1 = A.dot(eig_vecs[:,1]) # 矩阵乘以向量  \n",
    "print(a1 - eig_vals[1]*eig_vecs[:,1])  #输出结果应该是零向量\n",
    "a2 = A.dot(eig_vecs[:,2]) # 矩阵乘以向量  \n",
    "print(a2 - eig_vals[2]*eig_vecs[:,2])  #输出结果应该是零向量\n",
    "print(\"明显上述结果均为e的负15或16次方，即均为0\")\n",
    "print(\"也就是说： 举矩阵*对应特征向量=对应特征值\")"
   ]
  },
  {
   "cell_type": "markdown",
   "metadata": {},
   "source": [
    "# 9.矩阵的奇异值分解 svd"
   ]
  },
  {
   "cell_type": "code",
   "execution_count": 66,
   "metadata": {},
   "outputs": [
    {
     "name": "stdout",
     "output_type": "stream",
     "text": [
      "Shape of A: (100, 100)\n",
      "Part of A: [[0.77132064 0.02075195]\n",
      " [0.57813643 0.85393375]]\n",
      "Part of matrix: [[0.77132064 0.02075195]\n",
      " [0.57813643 0.85393375]]\n"
     ]
    },
    {
     "data": {
      "image/png": "[encoded data removed]",
      "text/plain": [
       "<Figure size 432x288 with 1 Axes>"
      ]
     },
     "metadata": {
      "needs_background": "light"
     },
     "output_type": "display_data"
    }
   ],
   "source": [
    "np.random.seed(10)  \n",
    "A = np.random.rand(100,100) \n",
    "print(\"Shape of A:\",A.shape)\n",
    "print(\"Part of A:\",A[:2,:2])  \n",
    "U,S,VH = np.linalg.svd(A)   \n",
    "print('Part of matrix:',U.dot(np.diag(S)).dot(VH)[:2,:2])  # 矩阵一的部分\n",
    "plt.plot(S)  \n",
    "plt.title('SVD of Matrix A')  # 矩阵SVD分解后得到的奇异值分布图\n",
    "plt.grid()  \n",
    "plt.show()"
   ]
  },
  {
   "cell_type": "code",
   "execution_count": null,
   "metadata": {},
   "outputs": [],
   "source": []
  }
 ],
 "metadata": {
  "kernelspec": {
   "display_name": "Python 3",
   "language": "python",
   "name": "python3"
  },
  "language_info": {
   "codemirror_mode": {
    "name": "ipython",
    "version": 3
   },
   "file_extension": ".py",
   "mimetype": "text/x-python",
   "name": "python",
   "nbconvert_exporter": "python",
   "pygments_lexer": "ipython3",
   "version": "3.6.7"
  }
 },
 "nbformat": 4,
 "nbformat_minor": 2
}
