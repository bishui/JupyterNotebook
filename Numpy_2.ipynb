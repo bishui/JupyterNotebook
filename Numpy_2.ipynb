{
 "cells": [
  {
   "cell_type": "markdown",
   "metadata": {},
   "source": [
    "### numpy.matlib矩阵库"
   ]
  },
  {
   "cell_type": "code",
   "execution_count": 87,
   "metadata": {},
   "outputs": [
    {
     "data": {
      "text/plain": [
       "matrix([[4128860, 6029375, 3801155],\n",
       "        [3014748, 6881383,     116]])"
      ]
     },
     "execution_count": 87,
     "metadata": {},
     "output_type": "execute_result"
    }
   ],
   "source": [
    "from numpy import matlib\n",
    "matlib.empty((2,3),int)#不初始化元素的 矩阵\n",
    "# matlib.zeros((2,3),int)\n",
    "# matlib.ones((2,3),int)"
   ]
  },
  {
   "cell_type": "code",
   "execution_count": 107,
   "metadata": {},
   "outputs": [
    {
     "data": {
      "text/plain": [
       "matrix([[0.89694916, 0.51830896, 0.42089774],\n",
       "        [0.94106728, 0.83835017, 0.74718102],\n",
       "        [0.88363602, 0.19310028, 0.05961202]])"
      ]
     },
     "execution_count": 107,
     "metadata": {},
     "output_type": "execute_result"
    }
   ],
   "source": [
    "np.matlib.rand(3,3)#函数返回给定大小的填充随机值的矩阵"
   ]
  },
  {
   "cell_type": "code",
   "execution_count": 90,
   "metadata": {},
   "outputs": [
    {
     "data": {
      "text/plain": [
       "matrix([[0, 1, 0],\n",
       "        [0, 0, 1]])"
      ]
     },
     "execution_count": 90,
     "metadata": {},
     "output_type": "execute_result"
    }
   ],
   "source": [
    "# numpy.matlib.eye(n, M,k, dtype)\n",
    "\n",
    "#    1.     n 返回矩阵的行数\n",
    "#    2.     M 返回矩阵的列数，默认为n\n",
    "#    3.     k 对角线的索引\n",
    "#    4.     dtype 输出的数据类型\n",
    "matlib.eye(2,3,1,int)"
   ]
  },
  {
   "cell_type": "code",
   "execution_count": 93,
   "metadata": {},
   "outputs": [
    {
     "data": {
      "text/plain": [
       "matrix([[1, 0, 0, 0, 0],\n",
       "        [0, 1, 0, 0, 0],\n",
       "        [0, 0, 1, 0, 0],\n",
       "        [0, 0, 0, 1, 0],\n",
       "        [0, 0, 0, 0, 1]])"
      ]
     },
     "execution_count": 93,
     "metadata": {},
     "output_type": "execute_result"
    }
   ],
   "source": [
    "matlib.identity(5, int)\n",
    "#函数返回给定大小的单位矩阵。单位矩阵是主对角线元素都为 1 的方阵"
   ]
  },
  {
   "cell_type": "markdown",
   "metadata": {},
   "source": [
    "###  线性代数"
   ]
  },
  {
   "cell_type": "markdown",
   "metadata": {},
   "source": [
    "###### 1.   np.dot, np.vdot(), np.vdot(), np.inner(), np.matmul()"
   ]
  },
  {
   "cell_type": "code",
   "execution_count": 124,
   "metadata": {},
   "outputs": [
    {
     "data": {
      "text/plain": [
       "array([[37, 40],\n",
       "       [85, 92]])"
      ]
     },
     "execution_count": 124,
     "metadata": {},
     "output_type": "execute_result"
    }
   ],
   "source": [
    "# np.dot   此函数返回 两个   数组  的  点积。 \n",
    "#   对于二维向量，其等效于矩阵乘法。 \n",
    "#   对于一维数组，它是向量的内积。 \n",
    "#   对于 N 维数组，它是a的最后一个轴上的和与b的倒数第二个轴的乘积。\n",
    "import numpy as np \n",
    "\n",
    "a = np.array([[1,2],[3,4]]) \n",
    "b = np.array([[11,12],[13,14]]) \n",
    "np.dot(a,b)   #计算[[1*11+2*13, 1*12+2*14],[3*11+4*13, 3*12+4*14]]"
   ]
  },
  {
   "cell_type": "code",
   "execution_count": 109,
   "metadata": {},
   "outputs": [
    {
     "data": {
      "text/plain": [
       "130"
      ]
     },
     "execution_count": 109,
     "metadata": {},
     "output_type": "execute_result"
    }
   ],
   "source": [
    "# numpy.vdot() 此函数返回两个  向量  的  点积。 \n",
    "#   如果第一个参数是复数，那么它的共轭复数会用于计算。 \n",
    "#   如果参数id是多维数组，它会被展开。\n",
    "import numpy as np \n",
    "a = np.array([[1,2],[3,4]]) \n",
    "b = np.array([[11,12],[13,14]]) \n",
    "np.vdot(a,b) #计算    1*11 + 2*12 + 3*13 + 4*14 = 130"
   ]
  },
  {
   "cell_type": "code",
   "execution_count": 110,
   "metadata": {},
   "outputs": [
    {
     "data": {
      "text/plain": [
       "2"
      ]
     },
     "execution_count": 110,
     "metadata": {},
     "output_type": "execute_result"
    }
   ],
   "source": [
    "# numpy.inner() 此函数返回  一维数组  的  向量 内积。\n",
    "#   对于更高的维度，它返回 最后一个轴上 的和的乘积。\n",
    "import numpy as np \n",
    "\n",
    "# 1. 一维数组示例 \n",
    "np.inner(np.array([1,2,3]),np.array([0,1,0])) \n",
    "# 等价于 1*0+2*1+3*0"
   ]
  },
  {
   "cell_type": "code",
   "execution_count": 111,
   "metadata": {
    "collapsed": true
   },
   "outputs": [
    {
     "name": "stdout",
     "output_type": "stream",
     "text": [
      "数组 a：\n",
      "[[1 2]\n",
      " [3 4]]\n",
      "数组 b：\n",
      "[[11 12]\n",
      " [13 14]]\n",
      "内积：\n",
      "[[35 41]\n",
      " [81 95]]\n"
     ]
    }
   ],
   "source": [
    "# 2. 多维数组示例 \n",
    "import numpy as np \n",
    "a = np.array([[1,2], [3,4]]) \n",
    "\n",
    "print('数组 a：')\n",
    "print(a) \n",
    "b = np.array([[11, 12], [13, 14]]) \n",
    "\n",
    "print('数组 b：') \n",
    "print(b) \n",
    "\n",
    "print('内积：') \n",
    "print(np.inner(a,b))\n",
    "\n",
    "# 上面的例子中，内积计算如下：\n",
    "# 1*11+2*12, 1*13+2*14 \n",
    "# 3*11+4*12, 3*13+4*14"
   ]
  },
  {
   "cell_type": "code",
   "execution_count": 121,
   "metadata": {},
   "outputs": [
    {
     "data": {
      "text/plain": [
       "array([[4, 1],\n",
       "       [2, 2]])"
      ]
     },
     "execution_count": 121,
     "metadata": {},
     "output_type": "execute_result"
    }
   ],
   "source": [
    "# numpy.matmul() 函数返回两个数组的矩阵乘积。 \n",
    "#     虽然它返回二维数组的正常乘积，但如果任一参数的维数大于2，\n",
    "#     则将其视为存在于最后两个索引的矩阵的栈，并进行相应广播。\n",
    "#     另一方面，如果任一参数是一维数组，则通过在其维度上附加 1 \n",
    "#     来将其提升为矩阵，并在乘法之后被去除。\n",
    "\n",
    "# 对于二维数组，它就是矩阵乘法\n",
    "import numpy as np \n",
    "\n",
    "a = [[1,0],[0,1]] \n",
    "b = [[4,1],[2,2]] \n",
    "np.matmul(a,b)"
   ]
  },
  {
   "cell_type": "markdown",
   "metadata": {},
   "source": [
    "###### 2.  np.linalg.det(),    np.linalg.solve(),   np.linalg.inv()"
   ]
  },
  {
   "cell_type": "code",
   "execution_count": 115,
   "metadata": {},
   "outputs": [
    {
     "data": {
      "text/plain": [
       "-2.0000000000000004"
      ]
     },
     "execution_count": 115,
     "metadata": {},
     "output_type": "execute_result"
    }
   ],
   "source": [
    "# 行列式在线性代数中是非常有用的值。 它从方阵的对角元素计算。 \n",
    "#     对于 2×2 矩阵，它是左上和右下元素的乘积与其他两个的乘积的差。\n",
    "#     换句话说，对于矩阵[[a，b]，[c，d]]，行列式计算为ad-bc。 \n",
    "#     较大的方阵被认为是 2×2 矩阵的组合。\n",
    "#     numpy.linalg.det()函数计算输入矩阵的行列式。\n",
    "import numpy as np\n",
    "a = np.array([[1,2], [3,4]]) \n",
    "np.linalg.det(a)"
   ]
  },
  {
   "cell_type": "code",
   "execution_count": null,
   "metadata": {},
   "outputs": [],
   "source": [
    "# numpy.linalg.solve()函数给出了矩阵形式的线性方程的解"
   ]
  },
  {
   "cell_type": "code",
   "execution_count": 123,
   "metadata": {},
   "outputs": [
    {
     "name": "stdout",
     "output_type": "stream",
     "text": [
      "[[1 2]\n",
      " [3 4]]\n",
      "[[-2.   1. ]\n",
      " [ 1.5 -0.5]]\n",
      "[[1.0000000e+00 0.0000000e+00]\n",
      " [8.8817842e-16 1.0000000e+00]]\n"
     ]
    }
   ],
   "source": [
    "# numpy.linalg.inv()函数来计算矩阵的逆。 \n",
    "# 矩阵的逆是这样的，如果它乘以原始矩阵，则得到单位矩阵。\n",
    "import numpy as np \n",
    "x = np.array([[1,2],[3,4]]) \n",
    "y = np.linalg.inv(x) \n",
    "print(x) \n",
    "print(y) \n",
    "print(np.dot(x,y))"
   ]
  },
  {
   "cell_type": "markdown",
   "metadata": {},
   "source": [
    "##### 高级索引"
   ]
  },
  {
   "cell_type": "markdown",
   "metadata": {},
   "source": [
    "如果一个ndarray是非元组序列，数据类型为整数或布尔值的ndarray，\n",
    "或者至少一个元素为序列对象的元组，我们就能够用它来索引ndarray。\n",
    "高级索引始终返回数据的副本。 与此相反，切片只提供了一个视图。"
   ]
  },
  {
   "cell_type": "code",
   "execution_count": 125,
   "metadata": {},
   "outputs": [
    {
     "name": "stdout",
     "output_type": "stream",
     "text": [
      "[1 4 5]\n"
     ]
    }
   ],
   "source": [
    "import numpy as np        # 整数索引\n",
    "\n",
    "x = np.array([[1,  2],  [3,  4],  [5,  6]]) \n",
    "y = x[[0,1,2],  [0,1,0]]  #该结果包括数组中(0,0)，(1,1)和(2,0)位置处的元素\n",
    "print(y)"
   ]
  },
  {
   "cell_type": "code",
   "execution_count": 126,
   "metadata": {},
   "outputs": [
    {
     "name": "stdout",
     "output_type": "stream",
     "text": [
      "我们的数组是：\n",
      "[[ 0  1  2]\n",
      " [ 3  4  5]\n",
      " [ 6  7  8]\n",
      " [ 9 10 11]]\n",
      "\n",
      "\n",
      "大于 5 的元素是：\n",
      "[ 6  7  8  9 10 11]\n"
     ]
    }
   ],
   "source": [
    "import numpy as np      # 布尔索引\n",
    "\n",
    "x = np.array([[  0,  1,  2],[  3,  4,  5],[  6,  7,  8],[  9,  10,  11]])  \n",
    "print('我们的数组是：')\n",
    "print(x)\n",
    "print('\\n')\n",
    "# 现在我们会打印出大于 5 的元素  \n",
    "print('大于 5 的元素是：')\n",
    "print(x[x >  5])"
   ]
  },
  {
   "cell_type": "markdown",
   "metadata": {},
   "source": [
    "#\n",
    "\n",
    "\n",
    "numpy.power()\n",
    "#此函数将第一个输入数组中的元素作为底数，计算它与第二个输入数组中相应元素的幂。\n",
    "\n"
   ]
  },
  {
   "cell_type": "markdown",
   "metadata": {},
   "source": [
    "###### numpy.mod()\n",
    "#此函数返回输入数组中相应元素的除法余数。 函数numpy.remainder()也产生相同的结果。"
   ]
  },
  {
   "cell_type": "markdown",
   "metadata": {},
   "source": [
    "###### numpy.ptp()\n",
    "#次函数返回沿轴的值的范围(最大值 - 最小值)。"
   ]
  },
  {
   "cell_type": "markdown",
   "metadata": {},
   "source": [
    "###### numpy.mean()\n",
    "#算术平均值是沿轴的元素的总和除以元素的数量。 \n",
    "#numpy.mean()函数返回数组中元素的算术平均值。 如果提供了轴，则沿其计算。"
   ]
  },
  {
   "cell_type": "markdown",
   "metadata": {},
   "source": [
    "###### numpy.average()\n",
    "#加权平均值是由每个分量乘以反映其重要性的因子得到的平均值。 \n",
    "#numpy.average()函数根据在另一个数组中给出的各自的权重计算数组中元素的加权平均值。 \n",
    "#该函数可以接受一个轴参数。 如果没有指定轴，则数组会被展开。\n",
    "#考虑数组[1,2,3,4]和相应的权重[4,3,2,1]，通过将相应元素的乘积相加，并将和除以权重的和，来计算加权平均值。\n",
    "#加权平均值 = (1*4+2*3+3*2+4*1)/(4+3+2+1)"
   ]
  },
  {
   "cell_type": "code",
   "execution_count": 127,
   "metadata": {},
   "outputs": [
    {
     "name": "stdout",
     "output_type": "stream",
     "text": [
      "我们的数组是：\n",
      "[1 2 3 4]\n",
      "\n",
      "\n",
      "调用 average() 函数：\n",
      "2.5\n",
      "\n",
      "\n",
      "再次调用 average() 函数：\n",
      "2.0\n",
      "\n",
      "\n",
      "权重的和：\n",
      "(2.0, 10.0)\n"
     ]
    }
   ],
   "source": [
    "import numpy as np \n",
    "a = np.array([1,2,3,4])  \n",
    "print('我们的数组是：')  \n",
    "print(a) \n",
    "print('\\n')  \n",
    "print('调用 average() 函数：')  \n",
    "print(np.average(a)) \n",
    "print('\\n')  \n",
    "# 不指定权重时相当于 mean 函数\n",
    "wts = np.array([4,3,2,1])  \n",
    "print('再次调用 average() 函数：')  \n",
    "print(np.average(a,weights = wts))  \n",
    "print('\\n')  \n",
    "# 如果 returned 参数设为 true，则返回权重的和  \n",
    "print('权重的和：')  \n",
    "print(np.average([1,2,3,  4],weights =  [4,3,2,1], returned =  True))"
   ]
  },
  {
   "cell_type": "markdown",
   "metadata": {},
   "source": [
    "###### 标准差\n",
    "标准差是与均值的偏差的平方的平均值的平方根。 标准差公式如下：\n",
    "#std = sqrt(mean((x - x.mean())**2))\n",
    "如果数组是[1，2，3，4]，则其平均值为2.5。 因此，差的平方是[2.25,0.25,0.25,2.25]，并且其平均值的平方根除以4，即sqrt(5/4)是1.1180339887498949。\n",
    "\n"
   ]
  },
  {
   "cell_type": "markdown",
   "metadata": {},
   "source": [
    "###### NumPy  - IO\n",
    "#ndarray对象可以保存到磁盘文件并从磁盘文件加载。 可用的 IO 功能有：\n",
    "\n",
    "#load()和save()函数处理 numPy 二进制文件(带npy扩展名)\n",
    "#loadtxt()和savetxt()函数处理正常的文本文件"
   ]
  },
  {
   "cell_type": "code",
   "execution_count": 128,
   "metadata": {},
   "outputs": [
    {
     "name": "stdout",
     "output_type": "stream",
     "text": [
      "[1. 2. 3. 4. 5.]\n"
     ]
    }
   ],
   "source": [
    "import numpy as np \n",
    "\n",
    "a = np.array([1,2,3,4,5]) \n",
    "np.savetxt('out.txt',a) \n",
    "b = np.loadtxt('out.txt')  \n",
    "print(b)"
   ]
  },
  {
   "cell_type": "markdown",
   "metadata": {},
   "source": [
    "###### NumPy - 排序函数"
   ]
  },
  {
   "attachments": {
    "image.png": {
     "image/png": "[encoded data removed]"
    }
   },
   "cell_type": "markdown",
   "metadata": {},
   "source": [
    "![image.png](attachment:image.png)"
   ]
  },
  {
   "attachments": {
    "image.png": {
     "image/png": "[encoded data removed]"
    }
   },
   "cell_type": "markdown",
   "metadata": {},
   "source": [
    "![image.png](attachment:image.png)"
   ]
  },
  {
   "cell_type": "markdown",
   "metadata": {},
   "source": [
    "###### NumPy - 搜索函数"
   ]
  },
  {
   "cell_type": "markdown",
   "metadata": {},
   "source": [
    "###### numpy.where()\n",
    "#where()函数返回输入数组中满足给定条件的元素的索引\n",
    "\n"
   ]
  },
  {
   "cell_type": "markdown",
   "metadata": {},
   "source": [
    "###### numpy.extract()\n",
    "#extract()函数返回满足任何条件的元素。"
   ]
  },
  {
   "cell_type": "code",
   "execution_count": 130,
   "metadata": {},
   "outputs": [
    {
     "name": "stdout",
     "output_type": "stream",
     "text": [
      "我们的数组是：\n",
      "[[0. 1. 2.]\n",
      " [3. 4. 5.]\n",
      " [6. 7. 8.]]\n",
      "按元素的条件值：\n",
      "[[ True False  True]\n",
      " [False  True False]\n",
      " [ True False  True]]\n",
      "使用条件提取元素：\n",
      "[0. 2. 4. 6. 8.]\n"
     ]
    }
   ],
   "source": [
    "import numpy as np \n",
    "x = np.arange(9.).reshape(3,  3)  \n",
    "print( '我们的数组是：')  \n",
    "print(x) \n",
    "# 定义条件 \n",
    "condition = np.mod(x,2)  ==  0  \n",
    "print('按元素的条件值：')  \n",
    "print( condition) \n",
    "print('使用条件提取元素：')  \n",
    "print(np.extract(condition, x))"
   ]
  },
  {
   "cell_type": "code",
   "execution_count": null,
   "metadata": {},
   "outputs": [],
   "source": []
  },
  {
   "cell_type": "code",
   "execution_count": null,
   "metadata": {},
   "outputs": [],
   "source": []
  }
 ],
 "metadata": {
  "kernelspec": {
   "display_name": "Python 3",
   "language": "python",
   "name": "python3"
  },
  "language_info": {
   "codemirror_mode": {
    "name": "ipython",
    "version": 3
   },
   "file_extension": ".py",
   "mimetype": "text/x-python",
   "name": "python",
   "nbconvert_exporter": "python",
   "pygments_lexer": "ipython3",
   "version": "3.6.7"
  }
 },
 "nbformat": 4,
 "nbformat_minor": 2
}
